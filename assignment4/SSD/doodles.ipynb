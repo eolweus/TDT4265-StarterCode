{
 "metadata": {
  "language_info": {
   "codemirror_mode": {
    "name": "ipython",
    "version": 3
   },
   "file_extension": ".py",
   "mimetype": "text/x-python",
   "name": "python",
   "nbconvert_exporter": "python",
   "pygments_lexer": "ipython3",
   "version": "3.8.8-final"
  },
  "orig_nbformat": 2,
  "kernelspec": {
   "name": "python3",
   "display_name": "Python 3",
   "language": "python"
  }
 },
 "nbformat": 4,
 "nbformat_minor": 2,
 "cells": [
  {
   "cell_type": "code",
   "execution_count": 3,
   "metadata": {},
   "outputs": [
    {
     "output_type": "stream",
     "name": "stdout",
     "text": [
      "8664\n"
     ]
    }
   ],
   "source": [
    "print(38*38*6)"
   ]
  },
  {
   "cell_type": "code",
   "execution_count": 4,
   "metadata": {},
   "outputs": [
    {
     "output_type": "stream",
     "name": "stdout",
     "text": [
      "38 x 38 x 6 = 8664\n19 x 19 x 6 = 2166\n10 x 10 x 6 = 600\n5 x 5 x 6 = 150\n3 x 3 x 6 = 54\n1 x 1 x 6 = 6\n  =  11640\n"
     ]
    }
   ],
   "source": [
    "feature_maps = [[38, 38], [19, 19], [10, 10], [5, 5], [3, 3], [1, 1]]\n",
    "num_boxes_pr_layer = [6, 6, 6, 6, 6]\n",
    "boxes = []\n",
    "\n",
    "for _map in feature_maps:\n",
    "    box_num = _map[0]*_map[1]*6\n",
    "    boxes.append(box_num)\n",
    "    print(_map[0], 'x', _map[1], 'x 6 =', box_num)\n",
    "print('  = ', sum(boxes))\n",
    "c=21"
   ]
  },
  {
   "cell_type": "code",
   "execution_count": null,
   "metadata": {},
   "outputs": [],
   "source": []
  }
 ]
}