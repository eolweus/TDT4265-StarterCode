{
 "cells": [
  {
   "cell_type": "markdown",
   "metadata": {},
   "source": [
    "# Assignment 1 Report"
   ]
  },
  {
   "cell_type": "markdown",
   "metadata": {},
   "source": [
    "This is an outline for your report to ease the amount of work required to create your report. Jupyter notebook supports markdown, and I recommend you to check out this [cheat sheet](https://github.com/adam-p/markdown-here/wiki/Markdown-Cheatsheet). If you are not familiar with markdown.\n",
    "\n",
    "Before delivery, **remember to convert this file to PDF**. You can do it in two ways:\n",
    "1. Print the webpage (ctrl+P or cmd+P)\n",
    "2. Export with latex. This is somewhat more difficult, but you'll get somehwat of a \"prettier\" PDF. Go to File -> Download as -> PDF via LaTeX. You might have to install nbconvert and pandoc through conda; `conda install nbconvert pandoc`."
   ]
  },
  {
   "cell_type": "markdown",
   "metadata": {},
   "source": [
    "# Task 1"
   ]
  },
  {
   "cell_type": "markdown",
   "metadata": {},
   "source": [
    "## task 1a)\n",
    "\n",
    "IoU or intersection of Union is a measurement of accuracy for object detection models. It takes the overlap between the ground truth bounding box, and the predicted bounding box, and divides it on the area of the union.\n",
    "\n",
    "![Task1a](hand_written_notes/task1a.png)"
   ]
  },
  {
   "cell_type": "markdown",
   "metadata": {},
   "source": [
    "## task 1b)\n",
    "\n",
    "A True Positive is the part of a prediction which intersects with the ground truth. A false Positive is the part of a prediction which does not intersect with the ground truth.\n",
    "\n",
    "![Task1b](hand_written_notes/Task1b.png)\n",
    "\n",
    "## task 1c)\n",
    "\n",
    "\n",
    "\n",
    "\n",
    "0.64\n"
   ]
  },
  {
   "cell_type": "markdown",
   "metadata": {},
   "source": [
    "# Task 2\n",
    "\n",
    "### Task 2f)\n",
    "![precision recall curve](task2/precision_recall_curve.png)\n"
   ]
  },
  {
   "cell_type": "markdown",
   "metadata": {},
   "source": [
    "# Task 3"
   ]
  },
  {
   "cell_type": "markdown",
   "metadata": {},
   "source": [
    "### Task 3a)\n",
    "\n",
    "The operation of filtering out overlapping bounding boxes during inference is called **non-maximum suppression**.\n",
    "\n",
    "### Task 3b)\n",
    "*Predictions from the deeper layers in SSD are responsible to\n",
    "detect small objects.*\n",
    "\n",
    "This is **false**. The deeper we go into the network, the lower the resolution becomes. The higher resolution feature maps are responsible for detecting smaller objects, meaning the more \"shallow\" layers preform this task.\n",
    "\n",
    "### Task 3c)\n",
    "We use different bounding box aspect ratios at the same spatial location because it enhances the early stage of training. If we have diverse box shapes, it is easier to detect multiple objects with varying shapes. This makes sense as a lot of objects in real life do not have random aspect ratios (Humans for instance are typically way longer than they are wide), and therefore applying different default boxes will increase the chance that one of them become a positive match. This again is important for training as *SSD only uses positive matches in calculating the localization cost* as stated in the medium article by Jonathan Hui.\n",
    "\n",
    "\n",
    "### Task 3d)\n",
    "What is the main difference between SSD and YOLOv1/v2 (The YOLO version they refer\n",
    "to in the SSD paper)?\n",
    "\n",
    "According to the paper, the main difference between SSD and YOLO is that SSD faster, and significantly more accurate.\n",
    "\n",
    "Architecturally, the difference is that the SSD model adds extra feature layers to the end of the base network. **which predict\n",
    "the offsets to default boxes of different scales and aspect ratios and their associated\n",
    "confidences** \n",
    "\n",
    "Essensially, YOLO operates on a single scale feature map, while SSD operates on several which allows it to detect objects in a wide range of scales. The SSD also uses  convolutional filters to determine the shape offsets relative to the default boxes coordinates, where as YOLO uses a dense layer for this task.\n",
    "\n",
    "// TODO: cite this bit\n",
    "\n",
    "### Task 3e)\n",
    "(c + 4)kmn => (c + 4)6*3*3\n",
    "\n",
    "### Task 3f)\n",
    "Fill in task 1a image of hand-written notes which are easy to read, or latex equations here\n"
   ]
  },
  {
   "cell_type": "markdown",
   "metadata": {},
   "source": [
    "# Task 4"
   ]
  },
  {
   "cell_type": "markdown",
   "metadata": {},
   "source": [
    "## Task 4b)\n",
    "\n",
    "FILL IN ANSWER. \n",
    "\n",
    "## Task 4c)\n",
    "FILL IN ANSWER. \n",
    "\n",
    "\n",
    "## Task 4d)\n",
    "FILL IN ANSWER. \n",
    "\n",
    "\n",
    "## Task 4e)\n",
    "FILL IN ANSWER. \n",
    "\n",
    "\n",
    "## Task 4f)\n",
    "FILL IN ANSWER. "
   ]
  }
 ],
 "metadata": {
  "kernelspec": {
   "display_name": "Python 3.8.1 64-bit ('py38': conda)",
   "language": "python",
   "name": "python38164bitpy38condac1f68ca5407a4349b0d7e37676f2fbb3"
  },
  "language_info": {
   "codemirror_mode": {
    "name": "ipython",
    "version": 3
   },
   "file_extension": ".py",
   "mimetype": "text/x-python",
   "name": "python",
   "nbconvert_exporter": "python",
   "pygments_lexer": "ipython3",
   "version": "3.8.1"
  }
 },
 "nbformat": 4,
 "nbformat_minor": 4
}