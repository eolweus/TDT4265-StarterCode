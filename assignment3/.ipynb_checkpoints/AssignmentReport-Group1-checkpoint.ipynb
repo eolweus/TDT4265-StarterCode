{
 "cells": [
  {
   "cell_type": "markdown",
   "metadata": {},
   "source": [
    "# Assignment 3 - Group 170"
   ]
  },
  {
   "cell_type": "markdown",
   "metadata": {},
   "source": [
    "This is an outline for your report to ease the amount of work required to create your report. Jupyter notebook supports markdown, and I recommend you to check out this [cheat sheet](https://github.com/adam-p/markdown-here/wiki/Markdown-Cheatsheet). If you are not familiar with markdown.\n",
    "\n",
    "Before delivery, **remember to convert this file to PDF**. You can do it in two ways:\n",
    "1. Print the webpage (ctrl+P or cmd+P)\n",
    "2. Export with latex. This is somewhat more difficult, but you'll get somehwat of a \"prettier\" PDF. Go to File -> Download as -> PDF via LaTeX. You might have to install nbconvert and pandoc through conda; `conda install nbconvert pandoc`."
   ]
  },
  {
   "cell_type": "markdown",
   "metadata": {},
   "source": [
    "# Task 1"
   ]
  },
  {
   "cell_type": "markdown",
   "metadata": {},
   "source": [
    "## task 1a)\n",
    "\n",
    "![task1a_1](task1/task1a.png)\n",
    "![task1a_2](task1/task1a_2.png)"
   ]
  },
  {
   "cell_type": "markdown",
   "metadata": {},
   "source": [
    "## task 1b)\n",
    "\n",
    "the convolutional layer\n",
    "\n",
    "## task 1c)\n",
    "\n",
    "![task1c](task1/task1c.png)\n",
    "\n",
    "\n",
    "## task 1d)\n",
    "\n",
    "![task1d](task1/task1d.png)\n",
    "## task 1e)\n",
    "\n",
    "![task1e](task1/task1e.png)\n",
    "\n",
    "## task 1f)\n",
    "\n",
    "![task1f](task1/task1f.png)\n",
    "\n",
    "## task 1g)\n",
    "\n",
    "![task1g_1](task1/task1g_1.png)\n",
    "![task1g_2](task1/task1g_2.png)\n",
    "![task1g_3](task1/task1g_3.png)"
   ]
  },
  {
   "cell_type": "markdown",
   "metadata": {},
   "source": [
    "# Task 2\n",
    "\n",
    "### Task 2a)\n",
    "\n",
    "![task2](plots/task2_plot.png)\n",
    "\n",
    "### Task 2b)\n",
    "train accuracy 0.8824,\n",
    "val accuracy 0.7162,\n",
    "test accuracy 0.7179"
   ]
  },
  {
   "cell_type": "markdown",
   "metadata": {},
   "source": [
    "# Task 3"
   ]
  },
  {
   "attachments": {},
   "cell_type": "markdown",
   "metadata": {},
   "source": [
    "### Task 3a)\n",
    "\n",
    "\n",
    "For the first conv net I used this architecture without changing anything but the filter size and padding.\n",
    "\n",
    "| Parameter     | Value |\n",
    "|---------------|-------|\n",
    "| optimizer     | SGD   |\n",
    "| Learning rate | 5e-2  |\n",
    "| batch size    | 64    |\n",
    "| Filter size   | 3     |\n",
    "| padding       | 1     |\n",
    "\n",
    "\n",
    "==========\n",
    "\n",
    "| Layer | LayerType       | Number of Hidden Units/filters | Activation func |\n",
    "|-------|-----------------|--------------------------------|-----------------|\n",
    "| 1     | conv2d          | 64                             | ReLu            |\n",
    "| 2     | MaxPool2d       | -                              | -               |\n",
    "| 4     | conv2d          | 128                            | ReLu            |\n",
    "| 4     | MaxPool2d       | -                              | -               |\n",
    "| 6     | conv2d          | 256                            | ReLu            |\n",
    "| 6     | MaxPool2d       | -                              | -               |\n",
    "|       | Flatten         | -                              |                 |\n",
    "| 7     | Fully-connected | 64                             | ReLU            |\n",
    "| 8     | Fully-connected | 10                             | Softmax         |\n",
    "\n",
    "\n",
    "\n",
    "---------------\n",
    "\n",
    "\n",
    "For the second conv net I used this architecture with batch normalization after the convolutional layers.\n",
    "I also turned off bias for the convolutional layers, as I've read it is not supposed to be used with batch normalization.\n",
    "\n",
    "| Parameter     | Value |\n",
    "|---------------|-------|\n",
    "| optimizer     | SGD   |\n",
    "| Learning rate | 5e-2  |\n",
    "| batch size    | 64    |\n",
    "| Filter size   | 3     |\n",
    "| padding       | 1     |\n",
    "\n",
    "=====\n",
    "\n",
    "| Layer | LayerType       | Number of Hidden Units/filters | Activation func |\n",
    "|-------|-----------------|--------------------------------|-----------------|\n",
    "| 1     | conv2d          | 16                             | ReLu            |\n",
    "| 2     | conv2d          | 16                             | ReLu            |\n",
    "| 2     | MaxPool2d       | -                              | -               |\n",
    "| 3     | conv2d          | 32                             | ReLu            |\n",
    "| 4     | conv2d          | 32                             | ReLu            |\n",
    "| 4     | MaxPool2d       | -                              | -               |\n",
    "| 5     | conv2d          | 64                             | ReLu            |\n",
    "| 6     | conv2d          | 64                             | ReLu            |\n",
    "| 6     | MaxPool2d       | -                              | -               |\n",
    "|       | Flatten         | -                              |                 |\n",
    "| 7     | Fully-connected | 64                             | ReLU            |\n",
    "| 8     | Fully-connected | 10                             | Softmax         |\n",
    "\n",
    "\n",
    "------------\n",
    "\n",
    "#### Accuracies \n",
    "\n",
    "| Model 1             |       |   | Model 2             |       |\n",
    "|---------------------|-------|---|---------------------|-------|\n",
    "| final train loss    | 0.75  |   | final train loss    | 0.79  |\n",
    "| train accuracy      | 0.902 |   | train accuracy      | 0.845 |\n",
    "| validation accuracy | 0.766 |   | validation accuracy | 0.768 |\n",
    "| test accuracy       | 0.751 |   | test accuracy       | 0.769 |\n",
    "\n",
    "\n",
    "\n",
    "\n",
    "### Task 3b)\n",
    "\n",
    "I chose highest test accuracy as the measurement of what was the best model\n",
    "![model1](plots/task3_1_plot.png)\n",
    "### Task 3c)\n",
    "\n",
    "Changing the filter size to 3 with 1 padding helped a lot. I think this is because you recogize finer detailes with a smaller filter. It's more thurough if you will.\n",
    "\n",
    "Adding batch normalization sped up the training.\n",
    "\n",
    "Changing the architecture and number of conv layers helped quite a bit as well. This is likely since it makes the model more complex.\n",
    "\n",
    "Additionally, changing the number of channels helped.\n",
    "\n",
    "### Task 3d)\n",
    "### Task 3e)\n",
    "\n",
    "![Improved model](plots/task3_Adam_plot.png)\n",
    "\n",
    "This time I changed the channels back to [32, 32, 64, 64, 128, 128] for the conv layers\n",
    "\n",
    "| Improved model   |       |\n",
    "|------------------|-------|\n",
    "| Optimizer        | Adam  |\n",
    "| Learning rate    | 0.001 |\n",
    "| batch size       | 64    |\n",
    "| Filter size      | 3     |\n",
    "| padding          | 1     |\n",
    "| weight_decay     | 1e-5  |\n",
    "| early stop count | 6     |\n",
    "\n",
    "| Improved Model      |       |\n",
    "|---------------------|-------|\n",
    "| final train loss    | 0.63  |\n",
    "| train accuracy      | 0.969 |\n",
    "| validation accuracy | 0.832 |\n",
    "| test accuracy       | 0.827 |\n",
    "\n",
    "\n",
    "### Task 3f)\n",
    "Yes, we clearly see signs of overfitting. The model has an accuracy of almost 97% for the training dataset, and only around 83% for the validation and test sets."
   ]
  },
  {
   "cell_type": "markdown",
   "metadata": {},
   "source": [
    "# Task 4"
   ]
  },
  {
   "cell_type": "markdown",
   "metadata": {},
   "source": [
    "## Task 4a)\n",
    "\n",
    "![model4](plots/task4_plot.png)\n",
    "\n",
    "#### Accuracies\n",
    "final loss 0.31\n",
    "train  0.9897\n",
    "val  0.9106\n",
    "test  0.8991\n"
   ]
  },
  {
   "cell_type": "markdown",
   "metadata": {},
   "source": [
    "## Task 4b)\n",
    "FILL IN ANSWER\n"
   ]
  },
  {
   "cell_type": "markdown",
   "metadata": {},
   "source": [
    "## Task 4c)\n",
    "FILL IN ANSWER"
   ]
  }
 ],
 "metadata": {
  "kernelspec": {
   "display_name": "Python 3",
   "language": "python",
   "name": "python3"
  },
  "language_info": {
   "codemirror_mode": {
    "name": "ipython",
    "version": 3
   },
   "file_extension": ".py",
   "mimetype": "text/x-python",
   "name": "python",
   "nbconvert_exporter": "python",
   "pygments_lexer": "ipython3",
   "version": "3.6.10"
  }
 },
 "nbformat": 4,
 "nbformat_minor": 4
}
