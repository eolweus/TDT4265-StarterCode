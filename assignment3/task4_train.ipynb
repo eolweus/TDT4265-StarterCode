{
 "metadata": {
  "language_info": {
   "codemirror_mode": {
    "name": "ipython",
    "version": 3
   },
   "file_extension": ".py",
   "mimetype": "text/x-python",
   "name": "python",
   "nbconvert_exporter": "python",
   "pygments_lexer": "ipython3",
   "version": 3
  },
  "orig_nbformat": 2
 },
 "nbformat": 4,
 "nbformat_minor": 2,
 "cells": [
  {
   "cell_type": "code",
   "execution_count": null,
   "metadata": {},
   "outputs": [],
   "source": [
    "import torchvision\n",
    "import pathlib\n",
    "import matplotlib.pyplot as plt\n",
    "from torch.nn.modules.activation import ReLU\n",
    "import utils\n",
    "import torch\n",
    "from torch import nn\n",
    "import torch.optim as optim\n",
    "from dataloaders import load_cifar10\n",
    "from trainer import Trainer, compute_loss_and_accuracy\n"
   ]
  },
  {
   "cell_type": "code",
   "execution_count": null,
   "metadata": {},
   "outputs": [],
   "source": [
    "class Model(nn.Module):\n",
    "    def __init__(self):\n",
    "        super().__init__()\n",
    "        self.model = torchvision.models.resnet18(pretrained=True)\n",
    "        self.model.fc = nn.Linear(512, 10) # No need to apply softmax,\n",
    "        # as this is done in nn.CrossEntropyLoss\n",
    "        for param in self.model.parameters(): # Freeze all parameters\n",
    "            param.requires_grad = False\n",
    "        for param in self.model.fc.parameters(): # Unfreeze the last fully-connected\n",
    "            param.requires_grad = True # layer\n",
    "        for param in self.model.layer4.parameters(): # Unfreeze the last 5 convolutional\n",
    "            param.requires_grad = True # layers\n",
    "\n",
    "    def forward(self, x):\n",
    "        x = self.model(x)\n",
    "        return x"
   ]
  }
 ]
}